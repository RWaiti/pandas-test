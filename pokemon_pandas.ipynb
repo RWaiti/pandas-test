{
 "cells": [
  {
   "cell_type": "code",
   "execution_count": null,
   "source": [
    "import pandas as pd\r\n",
    "data = pd.read_csv(\"pokemon.csv\")\r\n",
    "dataExcel = pd.read_excel(\"pokemon_data.xlsx\")\r\n",
    "\r\n",
    "print(data)\r\n",
    "print(dataExcel)"
   ],
   "outputs": [],
   "metadata": {}
  },
  {
   "cell_type": "code",
   "execution_count": null,
   "source": [
    "print(dataExcel[['Name', 'Type 1']])"
   ],
   "outputs": [],
   "metadata": {}
  },
  {
   "cell_type": "code",
   "execution_count": null,
   "source": [
    "print(dataExcel.iloc[5:6])"
   ],
   "outputs": [],
   "metadata": {}
  },
  {
   "cell_type": "code",
   "execution_count": null,
   "source": [
    "for index, row in dataExcel.iterrows():\r\n",
    "    print(row)"
   ],
   "outputs": [],
   "metadata": {}
  },
  {
   "cell_type": "code",
   "execution_count": null,
   "source": [
    "dataExcel.loc[(dataExcel['Type 1'] == 'Fire') | (dataExcel['Type 1'] == 'Grass')]"
   ],
   "outputs": [],
   "metadata": {}
  },
  {
   "cell_type": "code",
   "execution_count": null,
   "source": [
    "dataExcel.sort_values([\"Type 1\", \"HP\"], ascending=[1,0])"
   ],
   "outputs": [],
   "metadata": {}
  },
  {
   "cell_type": "code",
   "execution_count": null,
   "source": [
    "dataExcel['Total'] = dataExcel['HP'] + dataExcel['Attack'] + dataExcel['Defense'] + dataExcel[\"Sp. Atk\"] + dataExcel[\"Sp. Def\"] + dataExcel[\"Speed\"]\r\n",
    "print(dataExcel)"
   ],
   "outputs": [],
   "metadata": {}
  },
  {
   "cell_type": "code",
   "execution_count": null,
   "source": [
    "dataExcel = dataExcel.drop(columns=['Sp. Atk'])\r\n",
    "print(dataExcel)"
   ],
   "outputs": [],
   "metadata": {}
  },
  {
   "cell_type": "code",
   "execution_count": null,
   "source": [
    "cols = list(dataExcel.columns)\r\n",
    "dataExcel = dataExcel[cols[0:4] + [cols[-1]] + cols[4:11]]\r\n",
    "print(dataExcel)"
   ],
   "outputs": [],
   "metadata": {}
  },
  {
   "cell_type": "code",
   "execution_count": null,
   "source": [
    "dataExcel.to_excel(\"pokemon_data_new.xlsx\", index=False)"
   ],
   "outputs": [],
   "metadata": {}
  },
  {
   "cell_type": "code",
   "execution_count": null,
   "source": [
    "dataExcel.groupby(['Type 1']).mean().sort_values('Attack', ascending=False)"
   ],
   "outputs": [],
   "metadata": {}
  },
  {
   "cell_type": "code",
   "execution_count": null,
   "source": [
    "dataExcel.groupby(['Type 1']).count()['#'].sort_values()"
   ],
   "outputs": [],
   "metadata": {}
  },
  {
   "cell_type": "code",
   "execution_count": null,
   "source": [
    "newData = pd.DataFrame()\r\n",
    "\r\n",
    "for datachunk in pd.read_csv(\"pokemon.csv\", chunksize = 100):\r\n",
    "    colsvalue = list(datachunk.columns)\r\n",
    "    results = datachunk[[\"#\"] + [\"Type 1\"]]\r\n",
    "    newData = pd.concat([newData, results])\r\n",
    "\r\n",
    "\r\n"
   ],
   "outputs": [],
   "metadata": {}
  },
  {
   "cell_type": "code",
   "execution_count": null,
   "source": [
    "newData.groupby(['Type 1']).count()['#'].sort_values(ascending=False)"
   ],
   "outputs": [],
   "metadata": {}
  },
  {
   "cell_type": "code",
   "execution_count": null,
   "source": [
    "#pure python\r\n",
    "archive = open(\"pokemon.csv\", \"r\")\r\n",
    "dataTest = archive.read().split(\"\\n\")\r\n",
    "\r\n",
    "for i in range(len(dataTest)):\r\n",
    "    dataTest[i] = dataTest[i].split(\",\")\r\n",
    "    for j in range(4,11):\r\n",
    "        if i == 0:\r\n",
    "            continue\r\n",
    "        dataTest[i][j] = int(dataTest[i][j])\r\n",
    "#pure python\r\n",
    "\r\n",
    "# pandas # \r\n",
    "\r\n",
    "# dataTestPandasColumns = dataTest.pop(0)\r\n",
    "# dataTestPandas = pd.DataFrame(dataTest, columns= dataTestPandasColumns)\r\n",
    "\r\n",
    "# pandas #\r\n",
    "\r\n",
    "for i in range(1,len(dataTest)):\r\n",
    "    dataAux = dataTest[i][10:12]\r\n",
    "    dataTest[i] = dataTest[i][0:10]\r\n",
    "    dataTest[i].append(sum(dataTest[i][4:10]))\r\n",
    "    dataTest[i].extend(dataAux)\r\n",
    "    \r\n",
    "dataAux = dataTest[0][10:12]\r\n",
    "dataTest[0] = dataTest[0][0:10] \r\n",
    "dataTest[0].append(\"Total\")\r\n",
    "dataTest[0].extend(dataAux)\r\n",
    "\r\n",
    "print(type(dataAux))\r\n",
    "    "
   ],
   "outputs": [],
   "metadata": {}
  },
  {
   "cell_type": "code",
   "execution_count": null,
   "source": [
    "for row in dataTest:\r\n",
    "    print(\"{: >3} {: >25} {: >10} {: >10} {: >3} {: >6} {: >7} {: >7} {: >7} {: >5} {: >5} {: >10} {: >9}\".format(*row))"
   ],
   "outputs": [],
   "metadata": {}
  }
 ],
 "metadata": {
  "orig_nbformat": 4,
  "language_info": {
   "name": "python",
   "version": "3.9.6",
   "mimetype": "text/x-python",
   "codemirror_mode": {
    "name": "ipython",
    "version": 3
   },
   "pygments_lexer": "ipython3",
   "nbconvert_exporter": "python",
   "file_extension": ".py"
  },
  "kernelspec": {
   "name": "python3",
   "display_name": "Python 3.9.6 64-bit"
  },
  "interpreter": {
   "hash": "b7a6c43b79a47acc28a562c791a3854934f0f1b96e540dc555cc07e8df7186dc"
  }
 },
 "nbformat": 4,
 "nbformat_minor": 2
}